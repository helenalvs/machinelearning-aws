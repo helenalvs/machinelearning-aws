{
 "cells": [
  {
   "cell_type": "code",
   "execution_count": 4,
   "id": "c0e43873",
   "metadata": {},
   "outputs": [
    {
     "name": "stdout",
     "output_type": "stream",
     "text": [
      "Detected faces for test1.png\n",
      "Name: Andrew Garfield\n",
      "Id: 39RM5d4\n",
      "Position:\n",
      "   Left: 0.36\n",
      "   Top: 0.16\n",
      "Info\n",
      "   www.wikidata.org/wiki/Q23891\n",
      "   www.imdb.com/name/nm1940449\n",
      "Celebrities detected: 1\n"
     ]
    }
   ],
   "source": [
    "import boto3\n",
    "import json\n",
    "from PIL import Image, ImageDraw, ImageColor, ImageOps\n",
    "\n",
    "def recognize_celebrities(photo):\n",
    "\n",
    "    \n",
    "    client=boto3.client('rekognition')\n",
    "\n",
    "    with open(photo, 'rb') as image:\n",
    "        response = client.recognize_celebrities(Image={'Bytes': image.read()})\n",
    "\n",
    "    print('Detected faces for ' + photo)    \n",
    "    for celebrity in response['CelebrityFaces']:\n",
    "        print ('Name: ' + celebrity['Name'])\n",
    "        print ('Id: ' + celebrity['Id'])\n",
    "        #print ('KnownGender: ' + celebrity['KnownGender'])\n",
    "        #print ('Smile: ' + celebrity['Smile'])\n",
    "        print ('Position:')\n",
    "        print ('   Left: ' + '{:.2f}'.format(celebrity['Face']['BoundingBox']['Height']))\n",
    "        print ('   Top: ' + '{:.2f}'.format(celebrity['Face']['BoundingBox']['Top']))\n",
    "        print ('Info')\n",
    "        for url in celebrity['Urls']:\n",
    "            print ('   ' + url)\n",
    "        print\n",
    "    return len(response['CelebrityFaces'])\n",
    "\n",
    "def main():\n",
    "    photo='test1.png'\n",
    "\n",
    "    celeb_count=recognize_celebrities(photo)\n",
    "    print(\"Celebrities detected: \" + str(celeb_count))\n",
    "\n",
    "\n",
    "if __name__ == \"__main__\":\n",
    "    main()"
   ]
  },
  {
   "cell_type": "code",
   "execution_count": 5,
   "id": "00e7c68b",
   "metadata": {},
   "outputs": [
    {
     "name": "stdout",
     "output_type": "stream",
     "text": [
      "<PIL.PngImagePlugin.PngImageFile image mode=RGBA size=800x450 at 0x7F69091577F0>\n"
     ]
    }
   ],
   "source": [
    "img = Image.open('test1.png')\n",
    "print(img)"
   ]
  },
  {
   "cell_type": "code",
   "execution_count": null,
   "id": "e267c845",
   "metadata": {},
   "outputs": [],
   "source": []
  }
 ],
 "metadata": {
  "kernelspec": {
   "display_name": "conda_python3",
   "language": "python",
   "name": "conda_python3"
  },
  "language_info": {
   "codemirror_mode": {
    "name": "ipython",
    "version": 3
   },
   "file_extension": ".py",
   "mimetype": "text/x-python",
   "name": "python",
   "nbconvert_exporter": "python",
   "pygments_lexer": "ipython3",
   "version": "3.6.13"
  }
 },
 "nbformat": 4,
 "nbformat_minor": 5
}
